{
 "cells": [
  {
   "cell_type": "code",
   "execution_count": 4,
   "metadata": {},
   "outputs": [
    {
     "name": "stdout",
     "output_type": "stream",
     "text": [
      "\n",
      "downloading the Enron dataset (this may take a while)\n",
      "to check on progress, you can cd up one level, then execute <ls -lthr>\n",
      "Enron dataset should be last item on the list, along with its current size\n",
      "download will complete at about 423 MB\n",
      "download complete!\n",
      "\n",
      "unzipping Enron dataset (this may take a while)\n",
      "you're ready to go!\n"
     ]
    }
   ],
   "source": [
    "print\n",
    "print \"downloading the Enron dataset (this may take a while)\"\n",
    "print \"to check on progress, you can cd up one level, then execute <ls -lthr>\"\n",
    "print \"Enron dataset should be last item on the list, along with its current size\"\n",
    "print \"download will complete at about 423 MB\"\n",
    "import urllib\n",
    "url = \"https://www.cs.cmu.edu/~./enron/enron_mail_20150507.tar.gz\"\n",
    "urllib.urlretrieve(url, filename=\"../enron_mail_20150507.tar.gz\") \n",
    "print \"download complete!\"\n",
    "\n",
    "\n",
    "print\n",
    "print \"unzipping Enron dataset (this may take a while)\"\n",
    "import tarfile\n",
    "import os\n",
    "os.chdir(\"..\")\n",
    "tfile = tarfile.open(\"enron_mail_20150507.tar.gz\", \"r:gz\")\n",
    "tfile.extractall(\".\")\n",
    "\n",
    "print \"you're ready to go!\""
   ]
  },
  {
   "cell_type": "code",
   "execution_count": null,
   "metadata": {},
   "outputs": [],
   "source": []
  }
 ],
 "metadata": {
  "kernelspec": {
   "display_name": "Python 2",
   "language": "python",
   "name": "python2"
  },
  "language_info": {
   "codemirror_mode": {
    "name": "ipython",
    "version": 2
   },
   "file_extension": ".py",
   "mimetype": "text/x-python",
   "name": "python",
   "nbconvert_exporter": "python",
   "pygments_lexer": "ipython2",
   "version": "2.7.15"
  }
 },
 "nbformat": 4,
 "nbformat_minor": 2
}
