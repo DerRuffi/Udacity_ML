{
 "cells": [
  {
   "cell_type": "code",
   "execution_count": 10,
   "metadata": {},
   "outputs": [
    {
     "name": "stdout",
     "output_type": "stream",
     "text": [
      "\n",
      " Accuracy of Model: 99.090 %\n",
      "\n",
      " Value of most important feature: 0.8750 \n",
      "\n",
      " Number of most important feature: 37003 \n",
      "\n",
      " Word causing most discrimination on the decision tree: sara\n"
     ]
    }
   ],
   "source": [
    "import pickle\n",
    "import numpy\n",
    "numpy.random.seed(42)\n",
    "\n",
    "\n",
    "### The words (features) and authors (labels), already largely processed.\n",
    "### These files should have been created from the previous (Lesson 10)\n",
    "### mini-project.\n",
    "words_file = \"../text_learning/your_word_data.pkl\" \n",
    "authors_file = \"../text_learning/your_email_authors.pkl\"\n",
    "word_data = pickle.load( open(words_file, \"r\"))\n",
    "authors = pickle.load( open(authors_file, \"r\") )\n",
    "\n",
    "\n",
    "\n",
    "### test_size is the percentage of events assigned to the test set (the\n",
    "### remainder go into training)\n",
    "### feature matrices changed to dense representations for compatibility with\n",
    "### classifier functions in versions 0.15.2 and earlier\n",
    "from sklearn.cross_validation import train_test_split\n",
    "features_train, features_test, labels_train, labels_test = train_test_split(word_data, authors, test_size=0.1, random_state=42)\n",
    "\n",
    "from sklearn.feature_extraction.text import TfidfVectorizer\n",
    "vectorizer = TfidfVectorizer(sublinear_tf=True, max_df=0.5,\n",
    "                             stop_words='english')\n",
    "features_train = vectorizer.fit_transform(features_train)\n",
    "features_test  = vectorizer.transform(features_test).toarray()\n",
    "\n",
    "\n",
    "### a classic way to overfit is to use a small number\n",
    "### of data points and a large number of features;\n",
    "### train on only 150 events to put ourselves in this regime\n",
    "features_train = features_train[:150].toarray()\n",
    "labels_train   = labels_train[:150]\n",
    "\n",
    "### Classifier here\n",
    "from sklearn.tree import DecisionTreeClassifier\n",
    "dt = DecisionTreeClassifier()\n",
    "dt.fit(features_train,labels_train)\n",
    "\n",
    "accuracy = dt.score(features_test,labels_test)\n",
    "print(\"\\n Accuracy of Model: %0.3F %%\" % (accuracy*100))\n",
    "\n",
    "# Find the top feature in the decision tree and its relative importance\n",
    "top_feature = dt.feature_importances_[dt.feature_importances_ > 0.2]\n",
    "\n",
    "import numpy as np\n",
    "idx = np.where(dt.feature_importances_ > 0.2)\n",
    "\n",
    "print(\"\\n Value of most important feature: %0.4F \" % top_feature)\n",
    "print(\"\\n Number of most important feature: %0.0F \" % idx[0][0] )\n",
    "\n",
    "# What is the word that is causing the trouble\n",
    "vocab_list = vectorizer.get_feature_names()\n",
    "print(\"\\n Word causing most discrimination on the decision tree: %s\" % vocab_list[idx[0][0]])"
   ]
  },
  {
   "cell_type": "code",
   "execution_count": 13,
   "metadata": {},
   "outputs": [
    {
     "name": "stdout",
     "output_type": "stream",
     "text": [
      "accuracy: 0.9903299203640501\n",
      "index: 37003\n",
      "importance: 0.875\n",
      "problem word: sara\n"
     ]
    }
   ],
   "source": [
    "from sklearn.tree import DecisionTreeClassifier\n",
    "clf = DecisionTreeClassifier()\n",
    "clf.fit(features_train, labels_train)\n",
    "print \"accuracy:\", clf.score(features_test, labels_test)\n",
    "\n",
    "problemWordIndices = []\n",
    "\n",
    "importances = clf.feature_importances_\n",
    "for index in range(len(importances)):\n",
    "    if importances[index] > 0.2:\n",
    "        print \"index:\", index\n",
    "        problemWordIndices.append(index)\n",
    "        print \"importance:\", importances[index]\n",
    "\n",
    "for index in problemWordIndices:\n",
    "    print \"problem word:\", vectorizer.get_feature_names()[index]"
   ]
  },
  {
   "cell_type": "code",
   "execution_count": null,
   "metadata": {},
   "outputs": [],
   "source": []
  }
 ],
 "metadata": {
  "kernelspec": {
   "display_name": "Python 2",
   "language": "python",
   "name": "python2"
  },
  "language_info": {
   "codemirror_mode": {
    "name": "ipython",
    "version": 2
   },
   "file_extension": ".py",
   "mimetype": "text/x-python",
   "name": "python",
   "nbconvert_exporter": "python",
   "pygments_lexer": "ipython2",
   "version": "2.7.15"
  }
 },
 "nbformat": 4,
 "nbformat_minor": 2
}
